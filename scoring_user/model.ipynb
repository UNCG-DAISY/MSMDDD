{
 "cells": [
  {
   "cell_type": "markdown",
   "metadata": {},
   "source": [
    "## User Model - GradientBoosting"
   ]
  },
  {
   "cell_type": "code",
   "execution_count": 1,
   "metadata": {},
   "outputs": [
    {
     "name": "stderr",
     "output_type": "stream",
     "text": [
      "/home/saed/.local/lib/python3.8/site-packages/pandas/compat/__init__.py:117: UserWarning: Could not import the lzma module. Your installed Python is incomplete. Attempting to use lzma compression will result in a RuntimeError.\n",
      "  warnings.warn(msg)\n"
     ]
    }
   ],
   "source": [
    "import pandas as pd\n",
    "\n",
    "users = pd.read_csv(\"users.csv.zip\", index_col=\"screen_name\")\n",
    "users = users[[\"followers_count\", \"friends_count\", \"statuses_count\", \"verified\"]]"
   ]
  },
  {
   "cell_type": "markdown",
   "metadata": {},
   "source": [
    "Balancing users dataframe based on classes"
   ]
  },
  {
   "cell_type": "code",
   "execution_count": 2,
   "metadata": {},
   "outputs": [
    {
     "data": {
      "text/html": [
       "<div>\n",
       "<style scoped>\n",
       "    .dataframe tbody tr th:only-of-type {\n",
       "        vertical-align: middle;\n",
       "    }\n",
       "\n",
       "    .dataframe tbody tr th {\n",
       "        vertical-align: top;\n",
       "    }\n",
       "\n",
       "    .dataframe thead th {\n",
       "        text-align: right;\n",
       "    }\n",
       "</style>\n",
       "<table border=\"1\" class=\"dataframe\">\n",
       "  <thead>\n",
       "    <tr style=\"text-align: right;\">\n",
       "      <th></th>\n",
       "      <th>followers_count</th>\n",
       "      <th>friends_count</th>\n",
       "      <th>statuses_count</th>\n",
       "      <th>verified</th>\n",
       "    </tr>\n",
       "    <tr>\n",
       "      <th>screen_name</th>\n",
       "      <th></th>\n",
       "      <th></th>\n",
       "      <th></th>\n",
       "      <th></th>\n",
       "    </tr>\n",
       "  </thead>\n",
       "  <tbody>\n",
       "    <tr>\n",
       "      <th>joeflech</th>\n",
       "      <td>3658</td>\n",
       "      <td>1224</td>\n",
       "      <td>11410</td>\n",
       "      <td>1</td>\n",
       "    </tr>\n",
       "    <tr>\n",
       "      <th>DLasAmericas</th>\n",
       "      <td>112154</td>\n",
       "      <td>12510</td>\n",
       "      <td>407453</td>\n",
       "      <td>1</td>\n",
       "    </tr>\n",
       "    <tr>\n",
       "      <th>rebeccavallas</th>\n",
       "      <td>6292</td>\n",
       "      <td>1736</td>\n",
       "      <td>16352</td>\n",
       "      <td>1</td>\n",
       "    </tr>\n",
       "    <tr>\n",
       "      <th>PHRESHER_DGYGZ</th>\n",
       "      <td>4397</td>\n",
       "      <td>102</td>\n",
       "      <td>10708</td>\n",
       "      <td>1</td>\n",
       "    </tr>\n",
       "    <tr>\n",
       "      <th>yeyo478</th>\n",
       "      <td>1612</td>\n",
       "      <td>1546</td>\n",
       "      <td>148501</td>\n",
       "      <td>0</td>\n",
       "    </tr>\n",
       "  </tbody>\n",
       "</table>\n",
       "</div>"
      ],
      "text/plain": [
       "                followers_count  friends_count  statuses_count  verified\n",
       "screen_name                                                             \n",
       "joeflech                   3658           1224           11410         1\n",
       "DLasAmericas             112154          12510          407453         1\n",
       "rebeccavallas              6292           1736           16352         1\n",
       "PHRESHER_DGYGZ             4397            102           10708         1\n",
       "yeyo478                    1612           1546          148501         0"
      ]
     },
     "execution_count": 2,
     "metadata": {},
     "output_type": "execute_result"
    }
   ],
   "source": [
    "from numpy.random import binomial\n",
    "\n",
    "sampling_ratio = (\n",
    "    users.verified.value_counts()[1] * 1.0 / users.verified.value_counts()[0]\n",
    ")\n",
    "to_keep = []\n",
    "for i in users.itertuples():\n",
    "    if i[4] == 1:\n",
    "        to_keep.append(True)\n",
    "    else:\n",
    "        to_keep.append(binomial(1, sampling_ratio) == 1)\n",
    "users = users[to_keep]\n",
    "users.head()"
   ]
  },
  {
   "cell_type": "markdown",
   "metadata": {},
   "source": [
    "Splitting into a train and test subsets"
   ]
  },
  {
   "cell_type": "code",
   "execution_count": 3,
   "metadata": {},
   "outputs": [],
   "source": [
    "from sklearn.model_selection import train_test_split\n",
    "\n",
    "x = users.iloc[:, :-1]\n",
    "y = users.iloc[:, -1]\n",
    "x_tr, x_te, y_tr, y_te = train_test_split(x, y, test_size=0.3)"
   ]
  },
  {
   "cell_type": "markdown",
   "metadata": {},
   "source": [
    "The model originally went through hyperparameters optimization, feature engineering, feature selection, and cross-validation on the `x_tr, y_tr` set. After proven to be better Random Forest, Logistic Regression, and other models, we are training it on the `x_tr, y_tr` set and testing it on the `x_te, y_te` set."
   ]
  },
  {
   "cell_type": "markdown",
   "metadata": {},
   "source": [
    "Training the model on 10 folds using the training set. Then, evaluating it."
   ]
  },
  {
   "cell_type": "code",
   "execution_count": 4,
   "metadata": {},
   "outputs": [
    {
     "name": "stdout",
     "output_type": "stream",
     "text": [
      "Cross-Validation ROC-AUC-Score:  [0.93310252 0.98172139 0.93768148 0.97561611 0.96939915 0.97953869\n",
      " 0.97342342 0.96572823 0.96647898 0.95908408]\n"
     ]
    }
   ],
   "source": [
    "from sklearn.ensemble import GradientBoostingClassifier\n",
    "from sklearn.model_selection import cross_validate\n",
    "from sklearn.metrics import f1_score, precision_score, recall_score, roc_auc_score\n",
    "\n",
    "gb = GradientBoostingClassifier(n_estimators=50)\n",
    "cv_results = cross_validate(gb, x_tr, y_tr, scoring=[\"roc_auc\"], cv=10)\n",
    "print(\"Cross-Validation ROC-AUC-Score: \", cv_results[\"test_roc_auc\"])"
   ]
  },
  {
   "cell_type": "markdown",
   "metadata": {},
   "source": [
    "Afterwards, training the model on the full training set, and testing it on the testing set. Then, evaluating it, again."
   ]
  },
  {
   "cell_type": "code",
   "execution_count": 5,
   "metadata": {},
   "outputs": [
    {
     "name": "stdout",
     "output_type": "stream",
     "text": [
      "Test-Set Evaluation:\n",
      "F1-Score: 0.907815631262525\n",
      "Precision-Score: 0.8864970645792564\n",
      "Recall-Score: 0.9301848049281314\n",
      "ROC-AUC-Score: 0.9628624879272144\n"
     ]
    }
   ],
   "source": [
    "gb.fit(x_tr, y_tr)\n",
    "y_pred = gb.predict(x_te)\n",
    "y_pred_proba = gb.predict_proba(x_te)\n",
    "\n",
    "print(\"Test-Set Evaluation:\")\n",
    "print(\"F1-Score:\", f1_score(y_te, y_pred))\n",
    "print(\"Precision-Score:\", precision_score(y_te, y_pred))\n",
    "print(\"Recall-Score:\", recall_score(y_te, y_pred))\n",
    "print(\"ROC-AUC-Score:\", roc_auc_score(y_te, y_pred_proba[:, 1]))"
   ]
  }
 ],
 "metadata": {
  "kernelspec": {
   "display_name": "Python 3",
   "language": "python",
   "name": "python3"
  },
  "language_info": {
   "codemirror_mode": {
    "name": "ipython",
    "version": 3
   },
   "file_extension": ".py",
   "mimetype": "text/x-python",
   "name": "python",
   "nbconvert_exporter": "python",
   "pygments_lexer": "ipython3",
   "version": "3.8.0"
  }
 },
 "nbformat": 4,
 "nbformat_minor": 2
}
