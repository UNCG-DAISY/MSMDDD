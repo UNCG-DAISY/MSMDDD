{
 "cells": [
  {
   "cell_type": "code",
   "execution_count": 1,
   "metadata": {},
   "outputs": [
    {
     "name": "stderr",
     "output_type": "stream",
     "text": [
      "Using TensorFlow backend.\n"
     ]
    }
   ],
   "source": [
    "from keras.applications import inception_v3\n",
    "import keras\n",
    "import tensorflow as tf\n",
    "import pandas as pd\n",
    "import numpy as np\n",
    "from skimage import io,transform\n",
    "import os\n",
    "import sys\n",
    "model_name = 'InceptionV3Tuned_RealSpam'"
   ]
  },
  {
   "cell_type": "code",
   "execution_count": 2,
   "metadata": {},
   "outputs": [],
   "source": [
    "# size = 299\n",
    "# counter = 0\n",
    "# spamFolder = '../Images/SpamReal/Spam/'\n",
    "# imageFiles = os.listdir(spamFolder)\n",
    "# total = len(imageFiles)\n",
    "# spam_images = []\n",
    "# for image_path in imageFiles:\n",
    "#     if not image_path.endswith('.jpg'):\n",
    "#         continue\n",
    "#     img = io.imread(os.path.join(spamFolder,image_path))\n",
    "#     img = transform.resize(img, (size,size,3))\n",
    "#     spam_images.append(img)\n",
    "#     counter += 1\n",
    "#     sys.stdout.write(\"\\rProcessed: {0}/{1}\".format(counter, total))\n",
    "#     sys.stdout.flush()\n",
    "# print('')\n",
    "# counterA = 0\n",
    "# realFolder = '../Images/SpamReal/Real/'\n",
    "# imageFiles = os.listdir(realFolder)\n",
    "# total = len(imageFiles)    \n",
    "# real_images = []\n",
    "# for image_path in os.listdir(realFolder):\n",
    "#     if not image_path.endswith('.jpg'):\n",
    "#         continue\n",
    "#     img = io.imread(os.path.join(realFolder,image_path))\n",
    "#     img = transform.resize(img, (size,size,3))\n",
    "#     real_images.append(img)\n",
    "#     counterA += 1\n",
    "#     sys.stdout.write(\"\\rProcessed: {0}/{1}\".format(counterA, total))\n",
    "#     sys.stdout.flush()\n",
    "    \n",
    "# x = np.array(spam_images+real_images)\n",
    "# y = np.array(([0] * len(spam_images)) + ([1] * len(real_images)))\n",
    "# y = keras.utils.to_categorical(y, 2)\n",
    "\n",
    "# import random\n",
    "# c = list(zip(x, y))\n",
    "# random.shuffle(c)\n",
    "# x, y = zip(*c)\n",
    "# x = np.array(x)\n",
    "# y = np.array(y)\n",
    "# np.save('../Images/SpamReal/spamreal_x%s.npy' % size, x)\n",
    "# np.save('../Images/SpamReal/spamreal_y%s.npy' % size, y)"
   ]
  },
  {
   "cell_type": "code",
   "execution_count": 3,
   "metadata": {},
   "outputs": [],
   "source": [
    "size=299\n",
    "x = np.load('../Images/SpamReal/spamreal_x%s.npy' % size)\n",
    "y = np.load('../Images/SpamReal/spamreal_y%s.npy' % size)"
   ]
  },
  {
   "cell_type": "code",
   "execution_count": 4,
   "metadata": {},
   "outputs": [],
   "source": [
    "from sklearn.model_selection import train_test_split\n",
    "x_train, x_test, y_train, y_test = train_test_split(x, y, test_size=0.2, random_state=7)"
   ]
  },
  {
   "cell_type": "code",
   "execution_count": 5,
   "metadata": {},
   "outputs": [],
   "source": [
    "os.environ[\"CUDA_DEVICE_ORDER\"] = \"PCI_BUS_ID\"   # see issue #152\n",
    "os.environ[\"CUDA_VISIBLE_DEVICES\"] = \"1\""
   ]
  },
  {
   "cell_type": "code",
   "execution_count": null,
   "metadata": {},
   "outputs": [],
   "source": [
    "from keras.layers import GlobalAveragePooling2D, Dropout, Dense\n",
    "from keras.models import Model\n",
    "base = inception_v3.InceptionV3(include_top=False, classes=2, input_shape=(size,size,3), pooling='avg')\n",
    "temp = base.output\n",
    "# temp = GlobalAveragePooling2D()(temp)\n",
    "temp = Dropout(0.5)(temp)\n",
    "predictions = Dense(2, activation= 'softmax')(temp)\n",
    "model = Model(inputs = base.input, outputs = predictions)"
   ]
  },
  {
   "cell_type": "code",
   "execution_count": 31,
   "metadata": {
    "scrolled": true
   },
   "outputs": [
    {
     "name": "stdout",
     "output_type": "stream",
     "text": [
      "Train on 8397 samples, validate on 2100 samples\n",
      "Epoch 1/20\n",
      "8397/8397 [==============================] - 123s 15ms/step - loss: 0.2234 - acc: 0.9031 - val_loss: 0.1227 - val_acc: 0.9495\n",
      "\n",
      "Epoch 00001: val_loss improved from inf to 0.12266, saving model to InceptionV3Tuned_RealSpam.best.hdf5\n",
      "Epoch 2/20\n",
      "8397/8397 [==============================] - 113s 14ms/step - loss: 0.0969 - acc: 0.9634 - val_loss: 0.1022 - val_acc: 0.9590\n",
      "\n",
      "Epoch 00002: val_loss improved from 0.12266 to 0.10216, saving model to InceptionV3Tuned_RealSpam.best.hdf5\n",
      "Epoch 3/20\n",
      "8397/8397 [==============================] - 115s 14ms/step - loss: 0.0420 - acc: 0.9864 - val_loss: 0.1066 - val_acc: 0.9610\n",
      "\n",
      "Epoch 00003: val_loss did not improve from 0.10216\n",
      "Epoch 4/20\n",
      "8397/8397 [==============================] - 114s 14ms/step - loss: 0.0202 - acc: 0.9944 - val_loss: 0.1343 - val_acc: 0.9524\n",
      "\n",
      "Epoch 00004: val_loss did not improve from 0.10216\n",
      "Epoch 5/20\n",
      "8397/8397 [==============================] - 113s 14ms/step - loss: 0.0135 - acc: 0.9955 - val_loss: 0.1463 - val_acc: 0.9557\n",
      "\n",
      "Epoch 00005: val_loss did not improve from 0.10216\n",
      "Epoch 6/20\n",
      "8397/8397 [==============================] - 114s 14ms/step - loss: 0.0068 - acc: 0.9987 - val_loss: 0.1429 - val_acc: 0.9586\n",
      "\n",
      "Epoch 00006: val_loss did not improve from 0.10216\n",
      "Epoch 7/20\n",
      "8397/8397 [==============================] - 114s 14ms/step - loss: 0.0055 - acc: 0.9988 - val_loss: 0.1583 - val_acc: 0.9576\n",
      "\n",
      "Epoch 00007: val_loss did not improve from 0.10216\n",
      "Epoch 8/20\n",
      "8397/8397 [==============================] - 114s 14ms/step - loss: 0.0039 - acc: 0.9995 - val_loss: 0.1516 - val_acc: 0.9600\n",
      "\n",
      "Epoch 00008: val_loss did not improve from 0.10216\n",
      "Epoch 9/20\n",
      "8397/8397 [==============================] - 114s 14ms/step - loss: 0.0050 - acc: 0.9985 - val_loss: 0.1557 - val_acc: 0.9557\n",
      "\n",
      "Epoch 00009: val_loss did not improve from 0.10216\n",
      "Epoch 10/20\n",
      "8397/8397 [==============================] - 115s 14ms/step - loss: 0.0034 - acc: 0.9993 - val_loss: 0.1651 - val_acc: 0.9571\n",
      "\n",
      "Epoch 00010: val_loss did not improve from 0.10216\n",
      "Epoch 11/20\n",
      "8397/8397 [==============================] - 114s 14ms/step - loss: 0.0025 - acc: 0.9995 - val_loss: 0.1576 - val_acc: 0.9590\n",
      "\n",
      "Epoch 00011: val_loss did not improve from 0.10216\n",
      "Epoch 12/20\n",
      "8397/8397 [==============================] - 115s 14ms/step - loss: 0.0029 - acc: 0.9995 - val_loss: 0.1643 - val_acc: 0.9600\n",
      "\n",
      "Epoch 00012: val_loss did not improve from 0.10216\n",
      "Epoch 13/20\n",
      "8397/8397 [==============================] - 116s 14ms/step - loss: 0.0033 - acc: 0.9993 - val_loss: 0.1618 - val_acc: 0.9600\n",
      "\n",
      "Epoch 00014: val_loss did not improve from 0.10216\n",
      "Epoch 15/20\n",
      "8397/8397 [==============================] - 115s 14ms/step - loss: 0.0023 - acc: 0.9993 - val_loss: 0.1612 - val_acc: 0.9610\n",
      "\n",
      "Epoch 00015: val_loss did not improve from 0.10216\n",
      "Epoch 16/20\n",
      "8397/8397 [==============================] - 115s 14ms/step - loss: 0.0015 - acc: 0.9995 - val_loss: 0.1634 - val_acc: 0.9600\n",
      "\n",
      "Epoch 00016: val_loss did not improve from 0.10216\n",
      "Epoch 17/20\n",
      "8397/8397 [==============================] - 115s 14ms/step - loss: 0.0013 - acc: 0.9999 - val_loss: 0.1686 - val_acc: 0.9610\n",
      "\n",
      "Epoch 00017: val_loss did not improve from 0.10216\n",
      "Epoch 18/20\n",
      "8397/8397 [==============================] - 115s 14ms/step - loss: 7.7539e-04 - acc: 0.9999 - val_loss: 0.1682 - val_acc: 0.9590\n",
      "\n",
      "Epoch 00018: val_loss did not improve from 0.10216\n",
      "Epoch 19/20\n",
      "8397/8397 [==============================] - 115s 14ms/step - loss: 8.2878e-04 - acc: 1.0000 - val_loss: 0.1609 - val_acc: 0.9624\n",
      "\n",
      "Epoch 00019: val_loss did not improve from 0.10216\n",
      "Epoch 20/20\n",
      "8397/8397 [==============================] - 115s 14ms/step - loss: 8.8280e-04 - acc: 1.0000 - val_loss: 0.1667 - val_acc: 0.9619\n",
      "\n",
      "Epoch 00020: val_loss did not improve from 0.10216\n"
     ]
    }
   ],
   "source": [
    "from keras.optimizers import SGD\n",
    "from keras.callbacks import ModelCheckpoint\n",
    "# rmsp = rmsprop(lr=0.01, decay=0.9, epsilon=1, clipvalue=2)\n",
    "model.compile(loss='binary_crossentropy',\n",
    "              optimizer='sgd',\n",
    "              metrics=['acc'])\n",
    "\n",
    "filepath=\"%s.best.hdf5\" % model_name\n",
    "checkpoint = ModelCheckpoint(filepath, monitor='val_loss', verbose=1, save_best_only=True, mode='min')\n",
    "callbacks_list = [checkpoint]\n",
    "\n",
    "hist = model.fit([x_train], y_train, batch_size=32, epochs=20, validation_data=([x_test], y_test), verbose=1, callbacks=callbacks_list)"
   ]
  },
  {
   "cell_type": "code",
   "execution_count": 32,
   "metadata": {},
   "outputs": [
    {
     "name": "stdout",
     "output_type": "stream",
     "text": [
      "Saved model to disk\n"
     ]
    }
   ],
   "source": [
    "# serialize model to JSON\n",
    "model_json = model.to_json()\n",
    "with open(\"%s.json\" % model_name, \"w\") as json_file:\n",
    "    json_file.write(model_json)\n",
    "    \n",
    "# # serialize weights to HDF5\n",
    "model.save_weights(\"%s.h5\" % model_name)\n",
    "print(\"Saved model to disk\")"
   ]
  },
  {
   "cell_type": "code",
   "execution_count": null,
   "metadata": {},
   "outputs": [],
   "source": [
    "from keras.models import model_from_json\n",
    "# load json and create model\n",
    "json_file = open('%s.json' % model_name, 'r')\n",
    "loaded_model_json = json_file.read()\n",
    "json_file.close()\n",
    "model = model_from_json(loaded_model_json)\n",
    "# load weights into new model\n",
    "model.load_weights(\"%s.h5\" % model_name)\n",
    "print(\"Loaded model from disk\")\n",
    "\n",
    "model.compile(loss='binary_crossentropy',\n",
    "              optimizer='sgd',\n",
    "              metrics=['acc'])"
   ]
  },
  {
   "cell_type": "code",
   "execution_count": null,
   "metadata": {
    "scrolled": true
   },
   "outputs": [],
   "source": [
    "from sklearn.metrics import classification_report, f1_score, precision_score, recall_score, roc_auc_score\n",
    "\n",
    "predicted = model.predict([x_test])\n",
    "true = []\n",
    "pred = []\n",
    "for i in range(len(predicted)):\n",
    "    p_tmp = np.argmax(predicted[i], axis=-1)\n",
    "    t_tmp = np.argmax(y_test[i], -1)\n",
    "    pred.append(p_tmp)\n",
    "    true.append(t_tmp)\n",
    "\n",
    "print(precision_score(true, pred))\n",
    "print(recall_score(true, pred))\n",
    "print(roc_auc_score(true, pred))\n",
    "print(f1_score(true, pred))"
   ]
  },
  {
   "cell_type": "code",
   "execution_count": 35,
   "metadata": {},
   "outputs": [
    {
     "name": "stdout",
     "output_type": "stream",
     "text": [
      "Loaded model from disk\n"
     ]
    }
   ],
   "source": [
    "from keras.models import model_from_json\n",
    "# load json and create model\n",
    "json_file = open('%s.json' % model_name, 'r')\n",
    "loaded_model_json = json_file.read()\n",
    "json_file.close()\n",
    "model = model_from_json(loaded_model_json)\n",
    "# load weights into new model\n",
    "model.load_weights(\"%s.best.hdf5\" % model_name)\n",
    "print(\"Loaded model from disk\")\n",
    "\n",
    "model.compile(loss='binary_crossentropy',\n",
    "              optimizer='sgd',\n",
    "              metrics=['acc'])"
   ]
  },
  {
   "cell_type": "code",
   "execution_count": 22,
   "metadata": {},
   "outputs": [
    {
     "name": "stdout",
     "output_type": "stream",
     "text": [
      "0.9628865979381444\n",
      "0.9569672131147541\n",
      "0.9925516670555977\n",
      "0.959917780061665\n"
     ]
    }
   ],
   "source": [
    "# predicted = model.predict([x_test])\n",
    "true = []\n",
    "pred = []\n",
    "for i in range(len(predicted)):\n",
    "    p_tmp = predicted[i][1]\n",
    "    t_tmp = np.argmax(y_test[i], -1)\n",
    "    pred.append(p_tmp)\n",
    "    true.append(t_tmp)\n",
    "true = np.array(true)\n",
    "pred = np.array(pred)\n",
    "print(precision_score(true, pred>=0.362))\n",
    "print(recall_score(true, pred>=0.362))\n",
    "print(roc_auc_score(true, pred))\n",
    "print(f1_score(true, pred>=0.362))"
   ]
  },
  {
   "cell_type": "code",
   "execution_count": 21,
   "metadata": {},
   "outputs": [],
   "source": [
    "np.save('InceptionV3_RealSpam-Tuned_True.npy', np.array(true))\n",
    "np.save('InceptionV3_RealSpam-Tuned_Pred.npy', np.array(pred))"
   ]
  },
  {
   "cell_type": "code",
   "execution_count": 9,
   "metadata": {},
   "outputs": [
    {
     "name": "stdout",
     "output_type": "stream",
     "text": [
      "             precision    recall  f1-score   support\n",
      "\n",
      "          0      0.956     0.973     0.965      1124\n",
      "          1      0.969     0.949     0.959       976\n",
      "\n",
      "avg / total      0.962     0.962     0.962      2100\n",
      "\n"
     ]
    }
   ],
   "source": [
    "from sklearn.metrics import classification_report\n",
    "print(classification_report(true, pred, digits=3))"
   ]
  },
  {
   "cell_type": "code",
   "execution_count": 37,
   "metadata": {},
   "outputs": [],
   "source": [
    "from sklearn.metrics import roc_curve\n",
    "import matplotlib.pyplot as plt\n",
    "fpr, tpr, _ = roc_curve(true, predicted[:,1])\n",
    "np.save('fpr_%s.npy' % model_name, fpr)\n",
    "np.save('tpr_%s.npy' % model_name, tpr)"
   ]
  },
  {
   "cell_type": "code",
   "execution_count": 3,
   "metadata": {},
   "outputs": [],
   "source": [
    "y_tr = np.load('InceptionV3_RealSpam-Tuned_True.npy')\n",
    "y_pr = np.load('InceptionV3_RealSpam-Tuned_Pred.npy')"
   ]
  },
  {
   "cell_type": "code",
   "execution_count": 9,
   "metadata": {},
   "outputs": [
    {
     "data": {
      "text/plain": [
       "array([[9.9999791e-01, 2.1095905e-06],\n",
       "       [1.1600453e-01, 8.8399547e-01],\n",
       "       [9.9261487e-01, 7.3851091e-03],\n",
       "       ...,\n",
       "       [9.9979097e-01, 2.0903470e-04],\n",
       "       [0.0000000e+00, 1.0000000e+00],\n",
       "       [1.1920929e-07, 9.9999988e-01]], dtype=float32)"
      ]
     },
     "execution_count": 9,
     "metadata": {},
     "output_type": "execute_result"
    }
   ],
   "source": [
    "y_pred = np.array(list(zip(1-y_pr, y_pr)))\n",
    "y_pred"
   ]
  },
  {
   "cell_type": "code",
   "execution_count": 14,
   "metadata": {},
   "outputs": [
    {
     "data": {
      "text/plain": [
       "<matplotlib.axes._subplots.AxesSubplot at 0x7febb88475c0>"
      ]
     },
     "execution_count": 14,
     "metadata": {},
     "output_type": "execute_result"
    },
    {
     "data": {
      "image/png": "[encoded data removed]",
      "text/plain": [
       "<Figure size 432x288 with 1 Axes>"
      ]
     },
     "metadata": {},
     "output_type": "display_data"
    }
   ],
   "source": [
    "%matplotlib inline\n",
    "import scikitplot as skplt\n",
    "skplt.metrics.plot_roc(y_tr, y_pred, plot_micro=False, plot_macro=False)"
   ]
  },
  {
   "cell_type": "code",
   "execution_count": 22,
   "metadata": {},
   "outputs": [],
   "source": [
    "import matplotlib.pyplot as plt"
   ]
  },
  {
   "cell_type": "code",
   "execution_count": 28,
   "metadata": {},
   "outputs": [
    {
     "name": "stdout",
     "output_type": "stream",
     "text": [
      "Collecting pyperclip\n",
      "Installing collected packages: pyperclip\n",
      "Successfully installed pyperclip-1.7.0\n",
      "\u001b[33mYou are using pip version 19.0.1, however version 20.0.2 is available.\n",
      "You should consider upgrading via the 'pip install --upgrade pip' command.\u001b[0m\n"
     ]
    }
   ],
   "source": [
    "!pip3 install pyperclip --user"
   ]
  },
  {
   "cell_type": "code",
   "execution_count": 35,
   "metadata": {},
   "outputs": [],
   "source": [
    "import sys"
   ]
  },
  {
   "cell_type": "code",
   "execution_count": 38,
   "metadata": {},
   "outputs": [
    {
     "data": {
      "text/plain": [
       "sys.version_info(major=3, minor=5, micro=2, releaselevel='final', serial=0)"
      ]
     },
     "execution_count": 38,
     "metadata": {},
     "output_type": "execute_result"
    }
   ],
   "source": [
    "sys.version_info"
   ]
  },
  {
   "cell_type": "code",
   "execution_count": 41,
   "metadata": {},
   "outputs": [
    {
     "name": "stdout",
     "output_type": "stream",
     "text": [
      "Requirement already satisfied: pyperclip in /home/smsayeda/.local/lib/python3.5/site-packages (1.7.0)\n",
      "\u001b[33mYou are using pip version 19.0.1, however version 20.0.2 is available.\n",
      "You should consider upgrading via the 'pip install --upgrade pip' command.\u001b[0m\n"
     ]
    }
   ],
   "source": [
    "!python3.5 -m pip install pyperclip --user"
   ]
  },
  {
   "cell_type": "code",
   "execution_count": 43,
   "metadata": {},
   "outputs": [],
   "source": [
    "pd.DataFrame(dict(y_tr=y_tr, y_pred=np.round(y_pred[:,1]))).to_csv(\"binary_inc3t.csv\")"
   ]
  },
  {
   "cell_type": "code",
   "execution_count": 23,
   "metadata": {},
   "outputs": [
    {
     "data": {
      "text/plain": [
       "<matplotlib.axes._subplots.AxesSubplot at 0x7febb8661518>"
      ]
     },
     "execution_count": 23,
     "metadata": {},
     "output_type": "execute_result"
    },
    {
     "data": {
      "image/png": "[encoded data removed]",
      "text/plain": [
       "<Figure size 1200x1200 with 2 Axes>"
      ]
     },
     "metadata": {},
     "output_type": "display_data"
    }
   ],
   "source": [
    "ax = plt.figure(figsize=(12, 12), dpi=100).gca()\n",
    "skplt.metrics.plot_confusion_matrix(y_tr, np.round(y_pred[:,1]), normalize=True, ax=ax)"
   ]
  },
  {
   "cell_type": "code",
   "execution_count": null,
   "metadata": {},
   "outputs": [],
   "source": []
  }
 ],
 "metadata": {
  "kernelspec": {
   "display_name": "Python 3",
   "language": "python",
   "name": "python3"
  },
  "language_info": {
   "codemirror_mode": {
    "name": "ipython",
    "version": 3
   },
   "file_extension": ".py",
   "mimetype": "text/x-python",
   "name": "python",
   "nbconvert_exporter": "python",
   "pygments_lexer": "ipython3",
   "version": "3.5.2"
  }
 },
 "nbformat": 4,
 "nbformat_minor": 2
}
