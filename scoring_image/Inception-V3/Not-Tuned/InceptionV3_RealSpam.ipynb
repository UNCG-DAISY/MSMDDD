{
 "cells": [
  {
   "cell_type": "code",
   "execution_count": 1,
   "metadata": {},
   "outputs": [
    {
     "name": "stderr",
     "output_type": "stream",
     "text": [
      "Using TensorFlow backend.\n"
     ]
    }
   ],
   "source": [
    "from keras.applications import inception_v3\n",
    "import keras\n",
    "import tensorflow as tf\n",
    "import pandas as pd\n",
    "import numpy as np\n",
    "from skimage import io,transform\n",
    "import os\n",
    "import sys\n",
    "model_name = 'InceptionV3_RealSpam'"
   ]
  },
  {
   "cell_type": "code",
   "execution_count": 2,
   "metadata": {},
   "outputs": [],
   "source": [
    "# size = 299\n",
    "# counter = 0\n",
    "# spamFolder = '../Images/SpamReal/Spam/'\n",
    "# imageFiles = os.listdir(spamFolder)\n",
    "# total = len(imageFiles)\n",
    "# spam_images = []\n",
    "# for image_path in imageFiles:\n",
    "#     if not image_path.endswith('.jpg'):\n",
    "#         continue\n",
    "#     img = io.imread(os.path.join(spamFolder,image_path))\n",
    "#     img = transform.resize(img, (size,size,3))\n",
    "#     spam_images.append(img)\n",
    "#     counter += 1\n",
    "#     sys.stdout.write(\"\\rProcessed: {0}/{1}\".format(counter, total))\n",
    "#     sys.stdout.flush()\n",
    "# print('')\n",
    "# counterA = 0\n",
    "# realFolder = '../Images/SpamReal/Real/'\n",
    "# imageFiles = os.listdir(realFolder)\n",
    "# total = len(imageFiles)    \n",
    "# real_images = []\n",
    "# for image_path in os.listdir(realFolder):\n",
    "#     if not image_path.endswith('.jpg'):\n",
    "#         continue\n",
    "#     img = io.imread(os.path.join(realFolder,image_path))\n",
    "#     img = transform.resize(img, (size,size,3))\n",
    "#     real_images.append(img)\n",
    "#     counterA += 1\n",
    "#     sys.stdout.write(\"\\rProcessed: {0}/{1}\".format(counterA, total))\n",
    "#     sys.stdout.flush()\n",
    "    \n",
    "# x = np.array(spam_images+real_images)\n",
    "# y = np.array(([0] * len(spam_images)) + ([1] * len(real_images)))\n",
    "# y = keras.utils.to_categorical(y, 2)\n",
    "\n",
    "# import random\n",
    "# c = list(zip(x, y))\n",
    "# random.shuffle(c)\n",
    "# x, y = zip(*c)\n",
    "# x = np.array(x)\n",
    "# y = np.array(y)\n",
    "# np.save('../Images/SpamReal/spamreal_x%s.npy' % size, x)\n",
    "# np.save('../Images/SpamReal/spamreal_y%s.npy' % size, y)"
   ]
  },
  {
   "cell_type": "code",
   "execution_count": 3,
   "metadata": {},
   "outputs": [],
   "source": [
    "size=128\n",
    "x = np.load('../Images/SpamReal/spamreal_x%s.npy' % size)\n",
    "y = np.load('../Images/SpamReal/spamreal_y%s.npy' % size)"
   ]
  },
  {
   "cell_type": "code",
   "execution_count": 4,
   "metadata": {},
   "outputs": [],
   "source": [
    "from sklearn.model_selection import train_test_split\n",
    "x_train, x_test, y_train, y_test = train_test_split(x, y, test_size=0.2, random_state=7)"
   ]
  },
  {
   "cell_type": "code",
   "execution_count": 5,
   "metadata": {},
   "outputs": [],
   "source": [
    "os.environ[\"CUDA_DEVICE_ORDER\"] = \"PCI_BUS_ID\"   # see issue #152\n",
    "os.environ[\"CUDA_VISIBLE_DEVICES\"] = \"1\""
   ]
  },
  {
   "cell_type": "code",
   "execution_count": 6,
   "metadata": {},
   "outputs": [],
   "source": [
    "from keras.layers import GlobalAveragePooling2D, Dropout, Dense\n",
    "from keras.models import Model\n",
    "base = inception_v3.InceptionV3(include_top=False, weights=None, classes=2, input_shape=(size,size,3), pooling='avg')\n",
    "temp = base.output\n",
    "# temp = GlobalAveragePooling2D()(temp)\n",
    "temp = Dropout(0.5)(temp)\n",
    "predictions = Dense(2, activation= 'softmax')(temp)\n",
    "model = Model(inputs = base.input, outputs = predictions)"
   ]
  },
  {
   "cell_type": "code",
   "execution_count": 16,
   "metadata": {
    "scrolled": true
   },
   "outputs": [
    {
     "name": "stdout",
     "output_type": "stream",
     "text": [
      "Train on 8397 samples, validate on 2100 samples\n",
      "Epoch 1/20\n",
      "8397/8397 [==============================] - 32s 4ms/step - loss: 0.0311 - acc: 0.9899 - val_loss: 0.5959 - val_acc: 0.8776\n",
      "\n",
      "Epoch 00001: val_loss did not improve from 0.22862\n",
      "Epoch 2/20\n",
      "8397/8397 [==============================] - 26s 3ms/step - loss: 0.0351 - acc: 0.9876 - val_loss: 0.3868 - val_acc: 0.9024\n",
      "\n",
      "Epoch 00002: val_loss did not improve from 0.22862\n",
      "Epoch 3/20\n",
      "8397/8397 [==============================] - 26s 3ms/step - loss: 0.0454 - acc: 0.9851 - val_loss: 0.4649 - val_acc: 0.8890\n",
      "\n",
      "Epoch 00003: val_loss did not improve from 0.22862\n",
      "Epoch 4/20\n",
      "8397/8397 [==============================] - 26s 3ms/step - loss: 0.0252 - acc: 0.9902 - val_loss: 0.3903 - val_acc: 0.9038\n",
      "\n",
      "Epoch 00004: val_loss did not improve from 0.22862\n",
      "Epoch 5/20\n",
      "8397/8397 [==============================] - 26s 3ms/step - loss: 0.0268 - acc: 0.9906 - val_loss: 0.7952 - val_acc: 0.8438\n",
      "\n",
      "Epoch 00005: val_loss did not improve from 0.22862\n",
      "Epoch 6/20\n",
      "8397/8397 [==============================] - 26s 3ms/step - loss: 0.0342 - acc: 0.9888 - val_loss: 0.4979 - val_acc: 0.8714\n",
      "\n",
      "Epoch 00006: val_loss did not improve from 0.22862\n",
      "Epoch 7/20\n",
      "8397/8397 [==============================] - 27s 3ms/step - loss: 0.0233 - acc: 0.9924 - val_loss: 0.4892 - val_acc: 0.9029\n",
      "\n",
      "Epoch 00007: val_loss did not improve from 0.22862\n",
      "Epoch 8/20\n",
      "8397/8397 [==============================] - 27s 3ms/step - loss: 0.0300 - acc: 0.9898 - val_loss: 0.5715 - val_acc: 0.8881\n",
      "\n",
      "Epoch 00008: val_loss did not improve from 0.22862\n",
      "Epoch 9/20\n",
      "8397/8397 [==============================] - 27s 3ms/step - loss: 0.0282 - acc: 0.9909 - val_loss: 0.4167 - val_acc: 0.9014\n",
      "\n",
      "Epoch 00009: val_loss did not improve from 0.22862\n",
      "Epoch 10/20\n",
      "8397/8397 [==============================] - 27s 3ms/step - loss: 0.0158 - acc: 0.9939 - val_loss: 0.4633 - val_acc: 0.8895\n",
      "\n",
      "Epoch 00010: val_loss did not improve from 0.22862\n",
      "Epoch 11/20\n",
      "8397/8397 [==============================] - 27s 3ms/step - loss: 0.0298 - acc: 0.9892 - val_loss: 0.3764 - val_acc: 0.9043\n",
      "\n",
      "Epoch 00011: val_loss did not improve from 0.22862\n",
      "Epoch 12/20\n",
      "8397/8397 [==============================] - 27s 3ms/step - loss: 0.0140 - acc: 0.9940 - val_loss: 0.6592 - val_acc: 0.8700\n",
      "\n",
      "Epoch 00012: val_loss did not improve from 0.22862\n",
      "Epoch 13/20\n",
      "8397/8397 [==============================] - 27s 3ms/step - loss: 0.0326 - acc: 0.9893 - val_loss: 0.6398 - val_acc: 0.8786\n",
      "\n",
      "Epoch 00013: val_loss did not improve from 0.22862\n",
      "Epoch 14/20\n",
      "8397/8397 [==============================] - 27s 3ms/step - loss: 0.0264 - acc: 0.9904 - val_loss: 0.3789 - val_acc: 0.9029\n",
      "\n",
      "Epoch 00014: val_loss did not improve from 0.22862\n",
      "Epoch 15/20\n",
      "8397/8397 [==============================] - 27s 3ms/step - loss: 0.0183 - acc: 0.9932 - val_loss: 0.4113 - val_acc: 0.8952\n",
      "\n",
      "Epoch 00015: val_loss did not improve from 0.22862\n",
      "Epoch 16/20\n",
      "8397/8397 [==============================] - 27s 3ms/step - loss: 0.0220 - acc: 0.9937 - val_loss: 0.4223 - val_acc: 0.9067\n",
      "\n",
      "Epoch 00016: val_loss did not improve from 0.22862\n",
      "Epoch 17/20\n",
      "8397/8397 [==============================] - 27s 3ms/step - loss: 0.0154 - acc: 0.9955 - val_loss: 0.4865 - val_acc: 0.8905\n",
      "\n",
      "Epoch 00017: val_loss did not improve from 0.22862\n",
      "Epoch 18/20\n",
      "8397/8397 [==============================] - 27s 3ms/step - loss: 0.0155 - acc: 0.9949 - val_loss: 0.4586 - val_acc: 0.9100\n",
      "\n",
      "Epoch 00018: val_loss did not improve from 0.22862\n",
      "Epoch 19/20\n",
      "8397/8397 [==============================] - 27s 3ms/step - loss: 0.0153 - acc: 0.9948 - val_loss: 0.4212 - val_acc: 0.9062\n",
      "\n",
      "Epoch 00019: val_loss did not improve from 0.22862\n",
      "Epoch 20/20\n",
      "8397/8397 [==============================] - 27s 3ms/step - loss: 0.0124 - acc: 0.9964 - val_loss: 0.4739 - val_acc: 0.9067\n",
      "\n",
      "Epoch 00020: val_loss did not improve from 0.22862\n"
     ]
    }
   ],
   "source": [
    "from keras.optimizers import SGD\n",
    "from keras.callbacks import ModelCheckpoint\n",
    "# rmsp = rmsprop(lr=0.01, decay=0.9, epsilon=1, clipvalue=2)\n",
    "model.compile(loss='binary_crossentropy',\n",
    "              optimizer='sgd',\n",
    "              metrics=['acc'])\n",
    "\n",
    "filepath=\"%s.best.hdf5\" % model_name\n",
    "checkpoint = ModelCheckpoint(filepath, monitor='val_loss', verbose=1, save_best_only=True, mode='min')\n",
    "callbacks_list = [checkpoint]\n",
    "\n",
    "hist = model.fit([x_train], y_train, batch_size=32, epochs=20, validation_data=([x_test], y_test), verbose=1, callbacks=callbacks_list)"
   ]
  },
  {
   "cell_type": "code",
   "execution_count": 6,
   "metadata": {},
   "outputs": [
    {
     "ename": "NameError",
     "evalue": "name 'model' is not defined",
     "output_type": "error",
     "traceback": [
      "\u001b[0;31m---------------------------------------------------------------------------\u001b[0m",
      "\u001b[0;31mNameError\u001b[0m                                 Traceback (most recent call last)",
      "\u001b[0;32m<ipython-input-6-0f730785a764>\u001b[0m in \u001b[0;36m<module>\u001b[0;34m()\u001b[0m\n\u001b[1;32m      1\u001b[0m \u001b[0;31m# serialize model to JSON\u001b[0m\u001b[0;34m\u001b[0m\u001b[0;34m\u001b[0m\u001b[0m\n\u001b[0;32m----> 2\u001b[0;31m \u001b[0mmodel_json\u001b[0m \u001b[0;34m=\u001b[0m \u001b[0mmodel\u001b[0m\u001b[0;34m.\u001b[0m\u001b[0mto_json\u001b[0m\u001b[0;34m(\u001b[0m\u001b[0;34m)\u001b[0m\u001b[0;34m\u001b[0m\u001b[0m\n\u001b[0m\u001b[1;32m      3\u001b[0m \u001b[0;32mwith\u001b[0m \u001b[0mopen\u001b[0m\u001b[0;34m(\u001b[0m\u001b[0;34m\"%s.json\"\u001b[0m \u001b[0;34m%\u001b[0m \u001b[0mmodel_name\u001b[0m\u001b[0;34m,\u001b[0m \u001b[0;34m\"w\"\u001b[0m\u001b[0;34m)\u001b[0m \u001b[0;32mas\u001b[0m \u001b[0mjson_file\u001b[0m\u001b[0;34m:\u001b[0m\u001b[0;34m\u001b[0m\u001b[0m\n\u001b[1;32m      4\u001b[0m     \u001b[0mjson_file\u001b[0m\u001b[0;34m.\u001b[0m\u001b[0mwrite\u001b[0m\u001b[0;34m(\u001b[0m\u001b[0mmodel_json\u001b[0m\u001b[0;34m)\u001b[0m\u001b[0;34m\u001b[0m\u001b[0m\n\u001b[1;32m      5\u001b[0m \u001b[0;34m\u001b[0m\u001b[0m\n",
      "\u001b[0;31mNameError\u001b[0m: name 'model' is not defined"
     ]
    }
   ],
   "source": [
    "# serialize model to JSON\n",
    "model_json = model.to_json()\n",
    "with open(\"%s.json\" % model_name, \"w\") as json_file:\n",
    "    json_file.write(model_json)\n",
    "    \n",
    "# # serialize weights to HDF5\n",
    "model.save_weights(\"%s.h5\" % model_name)\n",
    "print(\"Saved model to disk\")"
   ]
  },
  {
   "cell_type": "code",
   "execution_count": 7,
   "metadata": {},
   "outputs": [
    {
     "name": "stdout",
     "output_type": "stream",
     "text": [
      "Loaded model from disk\n"
     ]
    }
   ],
   "source": [
    "from keras.models import model_from_json\n",
    "# load json and create model\n",
    "json_file = open('%s.json' % model_name, 'r')\n",
    "loaded_model_json = json_file.read()\n",
    "json_file.close()\n",
    "model = model_from_json(loaded_model_json)\n",
    "# load weights into new model\n",
    "model.load_weights(\"%s.h5\" % model_name)\n",
    "print(\"Loaded model from disk\")\n",
    "\n",
    "model.compile(loss='binary_crossentropy',\n",
    "              optimizer='sgd',\n",
    "              metrics=['acc'])"
   ]
  },
  {
   "cell_type": "code",
   "execution_count": 20,
   "metadata": {},
   "outputs": [
    {
     "data": {
      "text/plain": [
       "<matplotlib.axes._subplots.AxesSubplot at 0x7ff997eac240>"
      ]
     },
     "execution_count": 20,
     "metadata": {},
     "output_type": "execute_result"
    },
    {
     "data": {
      "image/png": "[encoded data removed]",
      "text/plain": [
       "<Figure size 432x288 with 1 Axes>"
      ]
     },
     "metadata": {},
     "output_type": "display_data"
    }
   ],
   "source": [
    "skplt.metrics.plot_ks_statistic(np.array(true), list(zip(1-np.array(pred), np.array(pred))))"
   ]
  },
  {
   "cell_type": "code",
   "execution_count": 9,
   "metadata": {
    "scrolled": true
   },
   "outputs": [
    {
     "name": "stdout",
     "output_type": "stream",
     "text": [
      "precision_score:  0.8948545861297539\n",
      "recall_score:  0.8810572687224669\n",
      "f1_score:  0.8879023307436181\n",
      "roc_auc_score:  0.9619850028087397\n"
     ]
    },
    {
     "data": {
      "image/png": "[encoded data removed]",
      "text/plain": [
       "<Figure size 432x288 with 1 Axes>"
      ]
     },
     "metadata": {},
     "output_type": "display_data"
    }
   ],
   "source": [
    "from sklearn.metrics import classification_report, f1_score, precision_score, recall_score, roc_auc_score\n",
    "import scikitplot as skplt\n",
    "%matplotlib inline\n",
    "\n",
    "predicted = model.predict([x_test])\n",
    "true = []\n",
    "pred = []\n",
    "for i in range(len(predicted)):\n",
    "    p_tmp = predicted[i][1]\n",
    "    t_tmp = np.argmax(y_test[i], -1)\n",
    "    pred.append(p_tmp)\n",
    "    true.append(t_tmp)\n",
    "pred = np.array(pred)\n",
    "true = np.array(true)\n",
    "skplt.metrics.plot_ks_statistic(np.array(true), list(zip(1-pred, pred)))\n",
    "\n",
    "print(\"precision_score: \", precision_score(true, pred>=0.512))\n",
    "print(\"recall_score: \", recall_score(true, pred>=0.512))\n",
    "print(\"f1_score: \", f1_score(true, pred>=0.512))\n",
    "print(\"roc_auc_score: \", roc_auc_score(true, pred))"
   ]
  },
  {
   "cell_type": "code",
   "execution_count": 18,
   "metadata": {},
   "outputs": [
    {
     "name": "stdout",
     "output_type": "stream",
     "text": [
      "Loaded model from disk\n"
     ]
    }
   ],
   "source": [
    "from keras.models import model_from_json\n",
    "# load json and create model\n",
    "json_file = open('%s.json' % model_name, 'r')\n",
    "loaded_model_json = json_file.read()\n",
    "json_file.close()\n",
    "model = model_from_json(loaded_model_json)\n",
    "# load weights into new model\n",
    "model.load_weights(\"%s.best.hdf5\" % model_name)\n",
    "print(\"Loaded model from disk\")\n",
    "\n",
    "model.compile(loss='binary_crossentropy',\n",
    "              optimizer='sgd',\n",
    "              metrics=['acc'])"
   ]
  },
  {
   "cell_type": "code",
   "execution_count": 19,
   "metadata": {},
   "outputs": [
    {
     "name": "stdout",
     "output_type": "stream",
     "text": [
      "0.8910112359550562\n",
      "0.8733480176211453\n",
      "0.8959860893474855\n",
      "0.8820912124582869\n"
     ]
    }
   ],
   "source": [
    "predicted = model.predict([x_test])\n",
    "true = []\n",
    "pred = []\n",
    "for i in range(len(predicted)):\n",
    "    p_tmp = np.argmax(predicted[i], axis=-1)\n",
    "    t_tmp = np.argmax(y_test[i], -1)\n",
    "    pred.append(p_tmp)\n",
    "    true.append(t_tmp)\n",
    "\n",
    "print(precision_score(true, pred))\n",
    "print(recall_score(true, pred))\n",
    "print(roc_auc_score(true, pred))\n",
    "print(f1_score(true, pred))"
   ]
  },
  {
   "cell_type": "code",
   "execution_count": 10,
   "metadata": {},
   "outputs": [],
   "source": [
    "from sklearn.metrics import roc_curve\n",
    "import matplotlib.pyplot as plt\n",
    "fpr, tpr, _ = roc_curve(true, predicted[:,1])\n",
    "np.save('fpr_%s.npy' % model_name, fpr)\n",
    "np.save('tpr_%s.npy' % model_name, tpr)"
   ]
  }
 ],
 "metadata": {
  "kernelspec": {
   "display_name": "Python 3",
   "language": "python",
   "name": "python3"
  },
  "language_info": {
   "codemirror_mode": {
    "name": "ipython",
    "version": 3
   },
   "file_extension": ".py",
   "mimetype": "text/x-python",
   "name": "python",
   "nbconvert_exporter": "python",
   "pygments_lexer": "ipython3",
   "version": "3.5.2"
  }
 },
 "nbformat": 4,
 "nbformat_minor": 2
}
