{
 "cells": [
  {
   "cell_type": "code",
   "execution_count": 1,
   "metadata": {},
   "outputs": [
    {
     "name": "stderr",
     "output_type": "stream",
     "text": [
      "Using TensorFlow backend.\n"
     ]
    }
   ],
   "source": [
    "from keras.applications import resnet50\n",
    "import keras\n",
    "import pandas as pd\n",
    "import numpy as np\n",
    "from skimage import io,transform\n",
    "import os\n",
    "import sys\n",
    "model_name = 'ResNet_RealSpam'"
   ]
  },
  {
   "cell_type": "code",
   "execution_count": 2,
   "metadata": {},
   "outputs": [],
   "source": [
    "# counter = 0\n",
    "# spamFolder = '../Images/SpamReal/Spam/'\n",
    "# imageFiles = os.listdir(spamFolder)\n",
    "# total = len(imageFiles)\n",
    "# spam_images = []\n",
    "# for image_path in imageFiles:\n",
    "#     img = io.imread(os.path.join(spamFolder,image_path))\n",
    "#     img = transform.resize(img, (64,64,3))\n",
    "#     spam_images.append(img)\n",
    "#     counter += 1\n",
    "#     sys.stdout.write(\"\\rProcessed: {0}/{1}\".format(counter, total))\n",
    "#     sys.stdout.flush()\n",
    "# print('')\n",
    "# counterA = 0\n",
    "# realFolder = '../Images/SpamReal/Real/'\n",
    "# imageFiles = os.listdir(realFolder)\n",
    "# total = len(imageFiles)    \n",
    "# real_images = []\n",
    "# for image_path in os.listdir(realFolder):\n",
    "#     img = io.imread(os.path.join(realFolder,image_path))\n",
    "#     img = transform.resize(img, (64,64,3))\n",
    "#     real_images.append(img)\n",
    "#     counterA += 1\n",
    "#     sys.stdout.write(\"\\rProcessed: {0}/{1}\".format(counterA, total))\n",
    "#     sys.stdout.flush()\n",
    "    \n",
    "# x = np.array(spam_images+real_images)\n",
    "# y = np.array(([0] * len(spam_images)) + ([1] * len(real_images)))\n",
    "# y = keras.utils.to_categorical(y, 2)\n",
    "\n",
    "# import random\n",
    "# c = list(zip(x, y))\n",
    "# random.shuffle(c)\n",
    "# x, y = zip(*c)\n",
    "# x = np.array(x)\n",
    "# y = np.array(y)\n",
    "# np.save('../Images/SpamReal/spamreal_x.npy', x)\n",
    "# np.save('../Images/SpamReal/spamreal_y.npy', y)"
   ]
  },
  {
   "cell_type": "code",
   "execution_count": 3,
   "metadata": {},
   "outputs": [],
   "source": [
    "x = np.load('../Images/SpamReal/spamreal_x.npy')\n",
    "y = np.load('../Images/SpamReal/spamreal_y.npy')"
   ]
  },
  {
   "cell_type": "code",
   "execution_count": 4,
   "metadata": {},
   "outputs": [],
   "source": [
    "from sklearn.model_selection import train_test_split\n",
    "x_train, x_test, y_train, y_test = train_test_split(x, y, test_size=0.2, random_state=7)"
   ]
  },
  {
   "cell_type": "code",
   "execution_count": 5,
   "metadata": {},
   "outputs": [],
   "source": [
    "os.environ[\"CUDA_DEVICE_ORDER\"] = \"PCI_BUS_ID\"   # see issue #152\n",
    "os.environ[\"CUDA_VISIBLE_DEVICES\"] = \"3\""
   ]
  },
  {
   "cell_type": "code",
   "execution_count": 6,
   "metadata": {},
   "outputs": [
    {
     "name": "stderr",
     "output_type": "stream",
     "text": [
      "/home/smsayeda/.local/lib/python3.5/site-packages/keras_applications/resnet50.py:265: UserWarning: The output shape of `ResNet50(include_top=False)` has been changed since Keras 2.2.0.\n",
      "  warnings.warn('The output shape of `ResNet50(include_top=False)` '\n"
     ]
    }
   ],
   "source": [
    "from keras.layers import GlobalAveragePooling2D, Dropout, Dense\n",
    "from keras.models import Model\n",
    "base = resnet50.ResNet50(include_top=False, weights=None, classes=2, input_shape=(64,64,3))\n",
    "temp = base.output\n",
    "temp = GlobalAveragePooling2D()(temp)\n",
    "temp = Dropout(0.7)(temp)\n",
    "predictions = Dense(2, activation= 'softmax')(temp)\n",
    "model = Model(inputs = base.input, outputs = predictions)"
   ]
  },
  {
   "cell_type": "code",
   "execution_count": 9,
   "metadata": {
    "scrolled": true
   },
   "outputs": [
    {
     "name": "stdout",
     "output_type": "stream",
     "text": [
      "Train on 8397 samples, validate on 2100 samples\n",
      "Epoch 1/20\n",
      "8397/8397 [==============================] - 22s 3ms/step - loss: 0.8230 - acc: 0.7222 - val_loss: 6.9862 - val_acc: 0.5638\n",
      "\n",
      "Epoch 00001: val_loss improved from inf to 6.98621, saving model to ResNet_RealSpam.best.hdf5\n",
      "Epoch 2/20\n",
      "8397/8397 [==============================] - 18s 2ms/step - loss: 0.5166 - acc: 0.8173 - val_loss: 6.9069 - val_acc: 0.5648\n",
      "\n",
      "Epoch 00002: val_loss improved from 6.98621 to 6.90691, saving model to ResNet_RealSpam.best.hdf5\n",
      "Epoch 3/20\n",
      "8397/8397 [==============================] - 18s 2ms/step - loss: 0.4160 - acc: 0.8332 - val_loss: 3.3587 - val_acc: 0.7286\n",
      "\n",
      "Epoch 00003: val_loss improved from 6.90691 to 3.35868, saving model to ResNet_RealSpam.best.hdf5\n",
      "Epoch 4/20\n",
      "8397/8397 [==============================] - 18s 2ms/step - loss: 0.3633 - acc: 0.8619 - val_loss: 7.4040 - val_acc: 0.4624\n",
      "\n",
      "Epoch 00004: val_loss did not improve from 3.35868\n",
      "Epoch 5/20\n",
      "8397/8397 [==============================] - 18s 2ms/step - loss: 0.3064 - acc: 0.8781 - val_loss: 2.6806 - val_acc: 0.5781\n",
      "\n",
      "Epoch 00005: val_loss improved from 3.35868 to 2.68059, saving model to ResNet_RealSpam.best.hdf5\n",
      "Epoch 6/20\n",
      "8397/8397 [==============================] - 18s 2ms/step - loss: 0.2830 - acc: 0.8836 - val_loss: 3.7344 - val_acc: 0.6310\n",
      "\n",
      "Epoch 00006: val_loss did not improve from 2.68059\n",
      "Epoch 7/20\n",
      "8397/8397 [==============================] - 18s 2ms/step - loss: 0.2951 - acc: 0.8875 - val_loss: 0.7879 - val_acc: 0.8448\n",
      "\n",
      "Epoch 00007: val_loss improved from 2.68059 to 0.78790, saving model to ResNet_RealSpam.best.hdf5\n",
      "Epoch 8/20\n",
      "8397/8397 [==============================] - 18s 2ms/step - loss: 0.2732 - acc: 0.8916 - val_loss: 0.5779 - val_acc: 0.8690\n",
      "\n",
      "Epoch 00008: val_loss improved from 0.78790 to 0.57786, saving model to ResNet_RealSpam.best.hdf5\n",
      "Epoch 9/20\n",
      "8397/8397 [==============================] - 18s 2ms/step - loss: 0.2442 - acc: 0.8970 - val_loss: 0.2420 - val_acc: 0.8952\n",
      "\n",
      "Epoch 00009: val_loss improved from 0.57786 to 0.24198, saving model to ResNet_RealSpam.best.hdf5\n",
      "Epoch 10/20\n",
      "8397/8397 [==============================] - 18s 2ms/step - loss: 0.2471 - acc: 0.9016 - val_loss: 0.3618 - val_acc: 0.8786\n",
      "\n",
      "Epoch 00010: val_loss did not improve from 0.24198\n",
      "Epoch 11/20\n",
      "8397/8397 [==============================] - 18s 2ms/step - loss: 0.2551 - acc: 0.9057 - val_loss: 0.2900 - val_acc: 0.8995\n",
      "\n",
      "Epoch 00011: val_loss did not improve from 0.24198\n",
      "Epoch 12/20\n",
      "8397/8397 [==============================] - 18s 2ms/step - loss: 0.2415 - acc: 0.9034 - val_loss: 0.2787 - val_acc: 0.8929\n",
      "\n",
      "Epoch 00012: val_loss did not improve from 0.24198\n",
      "Epoch 13/20\n",
      "8397/8397 [==============================] - 19s 2ms/step - loss: 0.2666 - acc: 0.9007 - val_loss: 0.2630 - val_acc: 0.8976\n",
      "\n",
      "Epoch 00013: val_loss did not improve from 0.24198\n",
      "Epoch 14/20\n",
      "8397/8397 [==============================] - 19s 2ms/step - loss: 0.2447 - acc: 0.9062 - val_loss: 0.4035 - val_acc: 0.8733\n",
      "\n",
      "Epoch 00014: val_loss did not improve from 0.24198\n",
      "Epoch 15/20\n",
      "8397/8397 [==============================] - 18s 2ms/step - loss: 0.3002 - acc: 0.9009 - val_loss: 0.3275 - val_acc: 0.8833\n",
      "\n",
      "Epoch 00015: val_loss did not improve from 0.24198\n",
      "Epoch 16/20\n",
      "8397/8397 [==============================] - 18s 2ms/step - loss: 0.2144 - acc: 0.9114 - val_loss: 0.7797 - val_acc: 0.8543\n",
      "\n",
      "Epoch 00016: val_loss did not improve from 0.24198\n",
      "Epoch 17/20\n",
      "8397/8397 [==============================] - 18s 2ms/step - loss: 0.2039 - acc: 0.9137 - val_loss: 0.6064 - val_acc: 0.7157\n",
      "\n",
      "Epoch 00017: val_loss did not improve from 0.24198\n",
      "Epoch 18/20\n",
      "8397/8397 [==============================] - 18s 2ms/step - loss: 0.2982 - acc: 0.9106 - val_loss: 0.3590 - val_acc: 0.8929\n",
      "\n",
      "Epoch 00018: val_loss did not improve from 0.24198\n",
      "Epoch 19/20\n",
      "8397/8397 [==============================] - 18s 2ms/step - loss: 0.1921 - acc: 0.9199 - val_loss: 0.3357 - val_acc: 0.9014\n",
      "\n",
      "Epoch 00019: val_loss did not improve from 0.24198\n",
      "Epoch 20/20\n",
      "8397/8397 [==============================] - 18s 2ms/step - loss: 0.1934 - acc: 0.9201 - val_loss: 0.4213 - val_acc: 0.9014\n",
      "\n",
      "Epoch 00020: val_loss did not improve from 0.24198\n"
     ]
    }
   ],
   "source": [
    "from keras.callbacks import ModelCheckpoint\n",
    "model.compile(loss='binary_crossentropy',\n",
    "              optimizer='rmsprop',\n",
    "              metrics=['acc'])\n",
    "\n",
    "filepath=\"%s.best.hdf5\" % model_name\n",
    "checkpoint = ModelCheckpoint(filepath, monitor='val_loss', verbose=1, save_best_only=True, mode='min')\n",
    "callbacks_list = [checkpoint]\n",
    "\n",
    "hist = model.fit([x_train], y_train, batch_size=32, epochs=20, validation_data=([x_test], y_test), verbose=1, callbacks=callbacks_list)"
   ]
  },
  {
   "cell_type": "code",
   "execution_count": 11,
   "metadata": {},
   "outputs": [
    {
     "name": "stdout",
     "output_type": "stream",
     "text": [
      "Saved model to disk\n"
     ]
    }
   ],
   "source": [
    "# serialize model to JSON\n",
    "model_json = model.to_json()\n",
    "with open(\"%s.json\" % model_name, \"w\") as json_file:\n",
    "    json_file.write(model_json)\n",
    "    \n",
    "# # serialize weights to HDF5\n",
    "model.save_weights(\"%s.h5\" % model_name)\n",
    "print(\"Saved model to disk\")"
   ]
  },
  {
   "cell_type": "code",
   "execution_count": 7,
   "metadata": {},
   "outputs": [
    {
     "name": "stdout",
     "output_type": "stream",
     "text": [
      "Loaded model from disk\n"
     ]
    }
   ],
   "source": [
    "from keras.models import model_from_json\n",
    "# load json and create model\n",
    "json_file = open('%s.json' % model_name, 'r')\n",
    "loaded_model_json = json_file.read()\n",
    "json_file.close()\n",
    "model = model_from_json(loaded_model_json)\n",
    "# load weights into new model\n",
    "model.load_weights(\"%s.h5\" % model_name)\n",
    "print(\"Loaded model from disk\")\n",
    "\n",
    "model.compile(loss='binary_crossentropy',\n",
    "              optimizer='sgd',\n",
    "              metrics=['acc'])"
   ]
  },
  {
   "cell_type": "code",
   "execution_count": 8,
   "metadata": {},
   "outputs": [
    {
     "name": "stdout",
     "output_type": "stream",
     "text": [
      "precision_score:  0.8864864864864865\n",
      "recall_score:  0.8951965065502183\n",
      "f1_score:  0.8908202064095601\n",
      "roc_auc_score:  0.9583645292399386\n"
     ]
    },
    {
     "data": {
      "image/png": "[encoded data removed]",
      "text/plain": [
       "<Figure size 432x288 with 1 Axes>"
      ]
     },
     "metadata": {},
     "output_type": "display_data"
    }
   ],
   "source": [
    "from sklearn.metrics import classification_report, f1_score, precision_score, recall_score, roc_auc_score\n",
    "import scikitplot as skplt\n",
    "%matplotlib inline\n",
    "\n",
    "predicted = model.predict([x_test])\n",
    "true = []\n",
    "pred = []\n",
    "for i in range(len(predicted)):\n",
    "    p_tmp = predicted[i][1]\n",
    "    t_tmp = np.argmax(y_test[i], -1)\n",
    "    pred.append(p_tmp)\n",
    "    true.append(t_tmp)\n",
    "pred = np.array(pred)\n",
    "true = np.array(true)\n",
    "skplt.metrics.plot_ks_statistic(np.array(true), list(zip(1-pred, pred)))\n",
    "\n",
    "print(\"precision_score: \", precision_score(true, pred>=0.577))\n",
    "print(\"recall_score: \", recall_score(true, pred>=0.577))\n",
    "print(\"f1_score: \", f1_score(true, pred>=0.577))\n",
    "print(\"roc_auc_score: \", roc_auc_score(true, pred))"
   ]
  },
  {
   "cell_type": "code",
   "execution_count": 8,
   "metadata": {},
   "outputs": [
    {
     "name": "stdout",
     "output_type": "stream",
     "text": [
      "Loaded model from disk\n"
     ]
    }
   ],
   "source": [
    "from keras.models import model_from_json\n",
    "# load json and create model\n",
    "json_file = open('%s.json' % model_name, 'r')\n",
    "loaded_model_json = json_file.read()\n",
    "json_file.close()\n",
    "model = model_from_json(loaded_model_json)\n",
    "# load weights into new model\n",
    "model.load_weights(\"%s.best.hdf5\" % model_name)\n",
    "print(\"Loaded model from disk\")\n",
    "\n",
    "model.compile(loss='binary_crossentropy',\n",
    "              optimizer='sgd',\n",
    "              metrics=['acc'])"
   ]
  },
  {
   "cell_type": "code",
   "execution_count": 9,
   "metadata": {},
   "outputs": [
    {
     "name": "stdout",
     "output_type": "stream",
     "text": [
      "0.8963553530751709\n",
      "0.8591703056768559\n",
      "0.891156098784374\n",
      "0.8773690078037905\n"
     ]
    }
   ],
   "source": [
    "from sklearn.metrics import classification_report, f1_score, precision_score, recall_score, roc_auc_score\n",
    "\n",
    "predicted = model.predict([x_test])\n",
    "true = []\n",
    "pred = []\n",
    "for i in range(len(predicted)):\n",
    "    p_tmp = np.argmax(predicted[i], axis=-1)\n",
    "    t_tmp = np.argmax(y_test[i], -1)\n",
    "    pred.append(p_tmp)\n",
    "    true.append(t_tmp)\n",
    "\n",
    "print(precision_score(true, pred))\n",
    "print(recall_score(true, pred))\n",
    "print(roc_auc_score(true, pred))\n",
    "print(f1_score(true, pred))"
   ]
  },
  {
   "cell_type": "code",
   "execution_count": 9,
   "metadata": {},
   "outputs": [],
   "source": [
    "from sklearn.metrics import roc_curve\n",
    "import matplotlib.pyplot as plt\n",
    "fpr, tpr, _ = roc_curve(true, predicted[:,1])\n",
    "np.save('fpr_%s.npy' % model_name, fpr)\n",
    "np.save('tpr_%s.npy' % model_name, tpr)"
   ]
  },
  {
   "cell_type": "code",
   "execution_count": null,
   "metadata": {},
   "outputs": [],
   "source": []
  }
 ],
 "metadata": {
  "kernelspec": {
   "display_name": "Python 3",
   "language": "python",
   "name": "python3"
  },
  "language_info": {
   "codemirror_mode": {
    "name": "ipython",
    "version": 3
   },
   "file_extension": ".py",
   "mimetype": "text/x-python",
   "name": "python",
   "nbconvert_exporter": "python",
   "pygments_lexer": "ipython3",
   "version": "3.5.2"
  }
 },
 "nbformat": 4,
 "nbformat_minor": 2
}
